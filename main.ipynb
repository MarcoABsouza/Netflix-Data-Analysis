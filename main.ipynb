{
 "cells": [
  {
   "cell_type": "code",
   "execution_count": 3,
   "metadata": {},
   "outputs": [],
   "source": [
    "# Libraries in use\n",
    "import pandas as pd\n",
    "import numpy as np\n",
    "import plotly.graph_objects as go\n",
    "import plotly.express as px\n",
    "import streamlit as st\n",
    "import matplotlib.pyplot as plt\n",
    "import seaborn as sns\n",
    "from datetime import datetime"
   ]
  },
  {
   "cell_type": "code",
   "execution_count": 69,
   "metadata": {},
   "outputs": [],
   "source": [
    "# Dataset used\n",
    "dataset = 'netflix_movies.csv'\n",
    "\n",
    "# Dataframe over dataset\n",
    "df = pd.read_csv(dataset)"
   ]
  },
  {
   "cell_type": "markdown",
   "metadata": {},
   "source": [
    "#### **Data pre-processing**"
   ]
  },
  {
   "cell_type": "code",
   "execution_count": null,
   "metadata": {},
   "outputs": [],
   "source": [
    "# Check the dataframe information\n",
    "df.info()"
   ]
  },
  {
   "cell_type": "code",
   "execution_count": 6,
   "metadata": {},
   "outputs": [],
   "source": [
    "# Selects the columns whose type is object and transforms them into a list\n",
    "object_columns = df.columns[df.dtypes==object].to_list()\n",
    "\n",
    "# Do not use column 'date_added'\n",
    "if 'date_added' in object_columns:\n",
    "    object_columns.remove('date_added')\n",
    "\n",
    "# Transform object columns into categorical columns\n",
    "df[object_columns] = df[object_columns].astype('category')"
   ]
  },
  {
   "cell_type": "code",
   "execution_count": 71,
   "metadata": {},
   "outputs": [],
   "source": [
    "# Transform the column to the datetime type\n",
    "df['date_added'] = pd.to_datetime(df['date_added'], errors='coerce')"
   ]
  },
  {
   "cell_type": "code",
   "execution_count": null,
   "metadata": {},
   "outputs": [],
   "source": [
    "# Identifies duplicate values\n",
    "df.duplicated().sum()"
   ]
  },
  {
   "cell_type": "code",
   "execution_count": null,
   "metadata": {},
   "outputs": [],
   "source": [
    "# Identifying and displaying null values\n",
    "df_missing = (\n",
    "    df.isna().sum() # counts the null values in the dataframe\n",
    "    .to_frame('missing_count') # Take the Series and turn it into a DataFrame\n",
    "    .join( # concat\n",
    "        (\n",
    "            df.isna().sum() # counts the null values in the dataframe\n",
    "            / df.shape[0] # Divide the count of null values by the size of the dataframe\n",
    "        ) \n",
    "        .to_frame('missing_pct') # Transforms the Series into Dataframe of the percentage of each null value in the table\n",
    "    )\n",
    "    .sort_values('missing_count',ascending=False) # Table sorted by missing_count dataframe\n",
    ")\n",
    "\n",
    "df_missing.style.format('{:.2%}',subset=['missing_pct']) # improves the formatting of the percentage in the dataframe"
   ]
  },
  {
   "cell_type": "code",
   "execution_count": 96,
   "metadata": {},
   "outputs": [],
   "source": [
    "# It is not interesting to delete null values, only rows with full null values.\n",
    "# Because, we can miss some values in our analysis.\n",
    "# If you want to drop all rows with null values\n",
    "# df.dropna(inplace=True)"
   ]
  },
  {
   "cell_type": "markdown",
   "metadata": {},
   "source": [
    "Show the all Movies & TV Shows released by month -> Graphs"
   ]
  },
  {
   "cell_type": "code",
   "execution_count": 72,
   "metadata": {},
   "outputs": [],
   "source": [
    "# Selects in the 'date_added' column only the months of the data and counts how many times they appear\n",
    "month = df['date_added'].dt.month.value_counts().sort_index()"
   ]
  },
  {
   "cell_type": "code",
   "execution_count": null,
   "metadata": {},
   "outputs": [],
   "source": [
    "# Plot bar charts\n",
    "\"\"\"\n",
    "    Show the all Movies & TV Shows released by month\n",
    "\"\"\"\n",
    "%matplotlib inline\n",
    "sns.set_theme(style='ticks')\n",
    "plt.figure(figsize=(12, 6))\n",
    "month.plot(kind='bar', color='teal', layout='constrained')\n",
    "plt.title('Movie and Series Releases by Month')\n",
    "plt.xlabel('Month')\n",
    "plt.ylabel('Number of Launches')\n",
    "plt.xticks(ticks=range(12), labels=['Jan', 'Feb', 'Mar', 'Apr', 'May', 'Jun', 'Jul', 'Aug', 'Sep', 'Oct', 'Nov', 'Dec'], rotation=45)\n",
    "plt.tight_layout()\n",
    "plt.show()"
   ]
  },
  {
   "cell_type": "code",
   "execution_count": null,
   "metadata": {},
   "outputs": [],
   "source": [
    "# Plot bar charts\n",
    "\"\"\"\n",
    "    Show the all Movies & TV Shows released by month\n",
    "\"\"\"\n",
    "# Use Seaborn's darkgrid theme for better visuals\n",
    "sns.set_theme(style=\"ticks\")\n",
    "\n",
    "# Figure setup\n",
    "plt.figure(figsize=(12, 6))\n",
    "\n",
    "# Create bar plot\n",
    "ax = month.plot(kind='bar', color='teal')\n",
    "#sns.color_palette('coolwarm', n_colors=12)\n",
    "# Title and labels\n",
    "plt.title('Movie and Series Releases by Month', fontsize=16, fontweight='bold')\n",
    "plt.xlabel('Month', fontsize=12)\n",
    "plt.ylabel('Number of Launches', fontsize=12)\n",
    "\n",
    "# Customizing x-ticks\n",
    "plt.xticks(ticks=range(12), labels=['Jan', 'Feb', 'Mar', 'Apr', 'May', 'Jun', 'Jul', 'Aug', 'Sep', 'Oct', 'Nov', 'Dec'], rotation=45)\n",
    "\n",
    "# Add data labels\n",
    "for p in ax.patches:\n",
    "    ax.annotate(f'{int(p.get_height())}', (p.get_x() * 1.005, p.get_height() * 1.005), fontsize=10, color='black')\n",
    "\n",
    "# Apply tight layout for better spacing\n",
    "plt.tight_layout()\n",
    "\n",
    "# Show the plot\n",
    "plt.show()"
   ]
  },
  {
   "cell_type": "code",
   "execution_count": null,
   "metadata": {},
   "outputs": [],
   "source": [
    "# Plot bar charts\n",
    "\"\"\"\n",
    "    Show the all Movies & TV Shows released by month\n",
    "\"\"\"\n",
    "# Create a figure with a specific background color\n",
    "fig, ax = plt.subplots(figsize=(12, 6))\n",
    "\n",
    "# Set background color of the plot area (axes)\n",
    "ax.set_facecolor('lightgray')  # Light gray background for the plot\n",
    "\n",
    "# Set background color for the figure area\n",
    "fig.patch.set_facecolor('whitesmoke')  # Soft white background for the figure\n",
    "\n",
    "# Plot the bar chart with a custom color palette\n",
    "ax.bar(range(12), month, color='teal')\n",
    "\n",
    "# Set title and labels\n",
    "ax.set_title('Movie and Series Releases by Month', fontsize=16, fontweight='bold')\n",
    "ax.set_xlabel('Month', fontsize=12)\n",
    "ax.set_ylabel('Number of Launches', fontsize=12)\n",
    "\n",
    "# Customizing x-ticks\n",
    "ax.set_xticks(range(12))\n",
    "ax.set_xticklabels(['Jan', 'Feb', 'Mar', 'Apr', 'May', 'Jun', 'Jul', 'Aug', 'Sep', 'Oct', 'Nov', 'Dec'], rotation=45)\n",
    "\n",
    "# Add data labels\n",
    "for i, value in enumerate(month):\n",
    "    ax.text(i, value + 2, f'{value}', ha='center', fontsize=10)\n",
    "\n",
    "# Adjust layout for proper spacing\n",
    "plt.tight_layout()\n",
    "\n",
    "# Show the plot\n",
    "plt.show()"
   ]
  },
  {
   "cell_type": "markdown",
   "metadata": {},
   "source": [
    "Count the all types of unique rating & which rating are with most number -> Graphs"
   ]
  },
  {
   "cell_type": "code",
   "execution_count": 100,
   "metadata": {},
   "outputs": [],
   "source": [
    "# Sample DataFrame\n",
    "values_rating = pd.DataFrame(df['rating'].value_counts()).reset_index()\n",
    "values_rating.columns = ['Rating', 'Count']"
   ]
  },
  {
   "cell_type": "code",
   "execution_count": null,
   "metadata": {},
   "outputs": [],
   "source": [
    "# Plot bar \n",
    "\"\"\" \n",
    "    Count the all types of unique rating & which rating are with most number\n",
    "\"\"\"\n",
    "# Set up the figure and axes\n",
    "plt.figure(figsize=(10, 6))\n",
    "\n",
    "# Use a barplot with Seaborn for better aesthetics\n",
    "ax = sns.barplot(x='Rating', y='Count',hue='Rating', data=values_rating, palette='deep',legend=False, order=values_rating['Rating'])\n",
    "\n",
    "# Set titles and labels\n",
    "ax.set_title('Unique Rating Values and Their Frequency', fontsize=16, fontweight='bold')\n",
    "ax.set_xlabel('Rating', fontsize=12)\n",
    "ax.set_ylabel('Number of Ratings', fontsize=12)\n",
    "\n",
    "# Annotate bars with the counts\n",
    "for p in ax.patches:\n",
    "    ax.annotate(f'{int(p.get_height())}', (p.get_x() + p.get_width() / 2., p.get_height()),\n",
    "                ha='center', va='baseline', fontsize=11, color='black', xytext=(0, 5), textcoords='offset points')\n",
    "\n",
    "# Display the plot\n",
    "plt.tight_layout()\n",
    "plt.show()"
   ]
  },
  {
   "cell_type": "code",
   "execution_count": null,
   "metadata": {},
   "outputs": [],
   "source": [
    "# Plot horizontal bar \n",
    "\"\"\" \n",
    "    Count the all types of unique rating & which rating are with most number\n",
    "\"\"\"\n",
    "# Set up the figure and axes for a horizontal bar chart\n",
    "plt.figure(figsize=(10, 6))\n",
    "\n",
    "# Horizontal barplot\n",
    "ax = sns.barplot(x='Count', y='Rating', hue=values_rating['Rating'], data=values_rating, palette='deep', order=values_rating['Rating'], legend=False)\n",
    "\n",
    "# Set titles and labels\n",
    "ax.set_title('Unique Rating Values and Their Frequency (Horizontal)', fontsize=16, fontweight='bold')\n",
    "ax.set_xlabel('Number of Ratings', fontsize=12)\n",
    "ax.set_ylabel('Rating', fontsize=12)\n",
    "\n",
    "# Annotate bars with the counts\n",
    "for p in ax.patches:\n",
    "    ax.annotate(f'{int(p.get_width())}', (p.get_width() + 1, p.get_y() + p.get_height() / 2),\n",
    "                va='center', fontsize=11, color='black')\n",
    "\n",
    "# Display the plot\n",
    "plt.tight_layout()\n",
    "plt.show()\n"
   ]
  },
  {
   "cell_type": "markdown",
   "metadata": {},
   "source": [
    "Salman Khan, Shah Rukh Khan, Akshay Kumar quantity movies - Graph"
   ]
  },
  {
   "cell_type": "code",
   "execution_count": null,
   "metadata": {},
   "outputs": [],
   "source": [
    "# Plot barplot\n",
    "\"\"\" \n",
    "    Salman Khan, Shah Rukh Khan, Akshay Kumar all movies\n",
    "\"\"\"\n",
    "\n",
    "# Create a mask to identify the actors in the cast\n",
    "mask = df['cast'].str.contains('Salman Khan|Shah Rukh Khan|Akshay Kumar', na=False)\n",
    "\n",
    "# Filter the DataFrame\n",
    "filtered_df = df[mask]\n",
    "\n",
    "# Separate the actors into a new column\n",
    "filtered_df['actor'] = filtered_df['cast'].str.extract('(Salman Khan|Shah Rukh Khan|Akshay Kumar)')\n",
    "\n",
    "# Count films by actor\n",
    "movies_count = filtered_df.groupby('actor').size().reset_index(name='Count')\n",
    "\n",
    "# Plot the data on a bar chart\n",
    "plt.figure(figsize=(8, 5))\n",
    "ax = sns.barplot(x=movies_count['actor'], y=movies_count['Count'], hue=movies_count['actor'], palette='deep', legend=False)\n",
    "\n",
    "# Add title and labels\n",
    "ax.set_title('Number of Films by Actors', fontsize=16, fontweight='bold')\n",
    "ax.set_xlabel('Actors', fontsize=12)\n",
    "ax.set_ylabel('Number of films', fontsize=12)\n",
    "\n",
    "# Add the values to the tops of the bars\n",
    "for p in ax.patches:\n",
    "    ax.annotate(f'{int(p.get_height())}', (p.get_x() + p.get_width() / 2., p.get_height()),\n",
    "                ha='center', va='baseline', fontsize=11, color='black', xytext=(0, 5), textcoords='offset points')\n",
    "\n",
    "plt.tight_layout()\n",
    "plt.show()"
   ]
  },
  {
   "cell_type": "markdown",
   "metadata": {},
   "source": [
    "Year on Year show added on Netflix by its type -> Graph"
   ]
  },
  {
   "cell_type": "code",
   "execution_count": 108,
   "metadata": {},
   "outputs": [
    {
     "name": "stderr",
     "output_type": "stream",
     "text": [
      "C:\\Users\\mabds\\AppData\\Local\\Temp\\ipykernel_4560\\3221041891.py:5: SettingWithCopyWarning:\n",
      "\n",
      "\n",
      "A value is trying to be set on a copy of a slice from a DataFrame.\n",
      "Try using .loc[row_indexer,col_indexer] = value instead\n",
      "\n",
      "See the caveats in the documentation: https://pandas.pydata.org/pandas-docs/stable/user_guide/indexing.html#returning-a-view-versus-a-copy\n",
      "\n",
      "C:\\Users\\mabds\\AppData\\Local\\Temp\\ipykernel_4560\\3221041891.py:8: SettingWithCopyWarning:\n",
      "\n",
      "\n",
      "A value is trying to be set on a copy of a slice from a DataFrame.\n",
      "Try using .loc[row_indexer,col_indexer] = value instead\n",
      "\n",
      "See the caveats in the documentation: https://pandas.pydata.org/pandas-docs/stable/user_guide/indexing.html#returning-a-view-versus-a-copy\n",
      "\n"
     ]
    },
    {
     "data": {
      "application/vnd.plotly.v1+json": {
       "config": {
        "plotlyServerURL": "https://plot.ly"
       },
       "data": [
        {
         "hovertemplate": "Genres=Stand-Up Comedy & Talk Shows<br>Year=%{x}<br>Number of Tv Shows=%{y}<extra></extra>",
         "legendgroup": "Stand-Up Comedy & Talk Shows",
         "line": {
          "color": "#ff4100",
          "dash": "solid"
         },
         "marker": {
          "symbol": "circle"
         },
         "mode": "lines+markers",
         "name": "Stand-Up Comedy & Talk Shows",
         "orientation": "v",
         "showlegend": true,
         "type": "scatter",
         "x": [
          2008,
          2013,
          2017,
          2018,
          2019,
          2020,
          2021
         ],
         "xaxis": "x",
         "y": [
          1,
          1,
          9,
          18,
          9,
          8,
          8
         ],
         "yaxis": "y"
        },
        {
         "hovertemplate": "Genres=Crime TV Shows<br>Year=%{x}<br>Number of Tv Shows=%{y}<extra></extra>",
         "legendgroup": "Crime TV Shows",
         "line": {
          "color": "#ff8200",
          "dash": "solid"
         },
         "marker": {
          "symbol": "circle"
         },
         "mode": "lines+markers",
         "name": "Crime TV Shows",
         "orientation": "v",
         "showlegend": true,
         "type": "scatter",
         "x": [
          2013,
          2014,
          2015,
          2016,
          2017,
          2018,
          2019,
          2020,
          2021
         ],
         "xaxis": "x",
         "y": [
          2,
          1,
          1,
          23,
          62,
          81,
          109,
          102,
          78
         ],
         "yaxis": "y"
        },
        {
         "hovertemplate": "Genres=Docuseries<br>Year=%{x}<br>Number of Tv Shows=%{y}<extra></extra>",
         "legendgroup": "Docuseries",
         "line": {
          "color": "#ffc300",
          "dash": "solid"
         },
         "marker": {
          "symbol": "circle"
         },
         "mode": "lines+markers",
         "name": "Docuseries",
         "orientation": "v",
         "showlegend": true,
         "type": "scatter",
         "x": [
          2013,
          2015,
          2016,
          2017,
          2018,
          2019,
          2020,
          2021
         ],
         "xaxis": "x",
         "y": [
          1,
          5,
          27,
          50,
          62,
          84,
          80,
          71
         ],
         "yaxis": "y"
        },
        {
         "hovertemplate": "Genres=International TV Shows<br>Year=%{x}<br>Number of Tv Shows=%{y}<extra></extra>",
         "legendgroup": "International TV Shows",
         "line": {
          "color": "#f8fd00",
          "dash": "solid"
         },
         "marker": {
          "symbol": "circle"
         },
         "mode": "lines+markers",
         "name": "International TV Shows",
         "orientation": "v",
         "showlegend": true,
         "type": "scatter",
         "x": [
          2013,
          2015,
          2016,
          2017,
          2018,
          2019,
          2020,
          2021
         ],
         "xaxis": "x",
         "y": [
          1,
          3,
          84,
          196,
          208,
          331,
          276,
          229
         ],
         "yaxis": "y"
        },
        {
         "hovertemplate": "Genres=TV Dramas<br>Year=%{x}<br>Number of Tv Shows=%{y}<extra></extra>",
         "legendgroup": "TV Dramas",
         "line": {
          "color": "#b9ff00",
          "dash": "solid"
         },
         "marker": {
          "symbol": "circle"
         },
         "mode": "lines+markers",
         "name": "TV Dramas",
         "orientation": "v",
         "showlegend": true,
         "type": "scatter",
         "x": [
          2013,
          2014,
          2015,
          2016,
          2017,
          2018,
          2019,
          2020,
          2021
         ],
         "xaxis": "x",
         "y": [
          3,
          3,
          3,
          39,
          125,
          103,
          162,
          164,
          137
         ],
         "yaxis": "y"
        },
        {
         "hovertemplate": "Genres=TV Mysteries<br>Year=%{x}<br>Number of Tv Shows=%{y}<extra></extra>",
         "legendgroup": "TV Mysteries",
         "line": {
          "color": "#78ff00",
          "dash": "solid"
         },
         "marker": {
          "symbol": "circle"
         },
         "mode": "lines+markers",
         "name": "TV Mysteries",
         "orientation": "v",
         "showlegend": true,
         "type": "scatter",
         "x": [
          2013,
          2015,
          2016,
          2017,
          2018,
          2019,
          2020,
          2021
         ],
         "xaxis": "x",
         "y": [
          1,
          1,
          3,
          9,
          15,
          16,
          28,
          22
         ],
         "yaxis": "y"
        },
        {
         "hovertemplate": "Genres=TV Sci-Fi & Fantasy<br>Year=%{x}<br>Number of Tv Shows=%{y}<extra></extra>",
         "legendgroup": "TV Sci-Fi & Fantasy",
         "line": {
          "color": "#37ff00",
          "dash": "solid"
         },
         "marker": {
          "symbol": "circle"
         },
         "mode": "lines+markers",
         "name": "TV Sci-Fi & Fantasy",
         "orientation": "v",
         "showlegend": true,
         "type": "scatter",
         "x": [
          2013,
          2015,
          2016,
          2017,
          2018,
          2019,
          2020,
          2021
         ],
         "xaxis": "x",
         "y": [
          1,
          1,
          3,
          10,
          9,
          15,
          23,
          20
         ],
         "yaxis": "y"
        },
        {
         "hovertemplate": "Genres=TV Thrillers<br>Year=%{x}<br>Number of Tv Shows=%{y}<extra></extra>",
         "legendgroup": "TV Thrillers",
         "line": {
          "color": "#00ff10",
          "dash": "solid"
         },
         "marker": {
          "symbol": "circle"
         },
         "mode": "lines+markers",
         "name": "TV Thrillers",
         "orientation": "v",
         "showlegend": true,
         "type": "scatter",
         "x": [
          2013,
          2014,
          2015,
          2016,
          2017,
          2018,
          2019,
          2020,
          2021
         ],
         "xaxis": "x",
         "y": [
          1,
          1,
          1,
          5,
          5,
          5,
          12,
          13,
          13
         ],
         "yaxis": "y"
        },
        {
         "hovertemplate": "Genres=Kids' TV<br>Year=%{x}<br>Number of Tv Shows=%{y}<extra></extra>",
         "legendgroup": "Kids' TV",
         "line": {
          "color": "#00ff51",
          "dash": "solid"
         },
         "marker": {
          "symbol": "circle"
         },
         "mode": "lines+markers",
         "name": "Kids' TV",
         "orientation": "v",
         "showlegend": true,
         "type": "scatter",
         "x": [
          2014,
          2015,
          2016,
          2017,
          2018,
          2019,
          2020,
          2021
         ],
         "xaxis": "x",
         "y": [
          1,
          6,
          40,
          41,
          58,
          81,
          108,
          98
         ],
         "yaxis": "y"
        },
        {
         "hovertemplate": "Genres=TV Comedies<br>Year=%{x}<br>Number of Tv Shows=%{y}<extra></extra>",
         "legendgroup": "TV Comedies",
         "line": {
          "color": "#00ff92",
          "dash": "solid"
         },
         "marker": {
          "symbol": "circle"
         },
         "mode": "lines+markers",
         "name": "TV Comedies",
         "orientation": "v",
         "showlegend": true,
         "type": "scatter",
         "x": [
          2014,
          2015,
          2016,
          2017,
          2018,
          2019,
          2020,
          2021
         ],
         "xaxis": "x",
         "y": [
          2,
          5,
          36,
          55,
          95,
          113,
          126,
          118
         ],
         "yaxis": "y"
        },
        {
         "hovertemplate": "Genres=British TV Shows<br>Year=%{x}<br>Number of Tv Shows=%{y}<extra></extra>",
         "legendgroup": "British TV Shows",
         "line": {
          "color": "#00ffd3",
          "dash": "solid"
         },
         "marker": {
          "symbol": "circle"
         },
         "mode": "lines+markers",
         "name": "British TV Shows",
         "orientation": "v",
         "showlegend": true,
         "type": "scatter",
         "x": [
          2015,
          2016,
          2017,
          2018,
          2019,
          2020,
          2021
         ],
         "xaxis": "x",
         "y": [
          6,
          18,
          43,
          38,
          56,
          44,
          30
         ],
         "yaxis": "y"
        },
        {
         "hovertemplate": "Genres=Romantic TV Shows<br>Year=%{x}<br>Number of Tv Shows=%{y}<extra></extra>",
         "legendgroup": "Romantic TV Shows",
         "line": {
          "color": "#00eaff",
          "dash": "solid"
         },
         "marker": {
          "symbol": "circle"
         },
         "mode": "lines+markers",
         "name": "Romantic TV Shows",
         "orientation": "v",
         "showlegend": true,
         "type": "scatter",
         "x": [
          2015,
          2016,
          2017,
          2018,
          2019,
          2020,
          2021
         ],
         "xaxis": "x",
         "y": [
          1,
          42,
          55,
          43,
          96,
          67,
          60
         ],
         "yaxis": "y"
        },
        {
         "hovertemplate": "Genres=Science & Nature TV<br>Year=%{x}<br>Number of Tv Shows=%{y}<extra></extra>",
         "legendgroup": "Science & Nature TV",
         "line": {
          "color": "#00aaff",
          "dash": "solid"
         },
         "marker": {
          "symbol": "circle"
         },
         "mode": "lines+markers",
         "name": "Science & Nature TV",
         "orientation": "v",
         "showlegend": true,
         "type": "scatter",
         "x": [
          2015,
          2016,
          2017,
          2018,
          2019,
          2020,
          2021
         ],
         "xaxis": "x",
         "y": [
          3,
          10,
          19,
          11,
          16,
          16,
          12
         ],
         "yaxis": "y"
        },
        {
         "hovertemplate": "Genres=TV Horror<br>Year=%{x}<br>Number of Tv Shows=%{y}<extra></extra>",
         "legendgroup": "TV Horror",
         "line": {
          "color": "#0069ff",
          "dash": "solid"
         },
         "marker": {
          "symbol": "circle"
         },
         "mode": "lines+markers",
         "name": "TV Horror",
         "orientation": "v",
         "showlegend": true,
         "type": "scatter",
         "x": [
          2015,
          2016,
          2017,
          2018,
          2019,
          2020,
          2021
         ],
         "xaxis": "x",
         "y": [
          1,
          3,
          4,
          10,
          18,
          22,
          14
         ],
         "yaxis": "y"
        },
        {
         "hovertemplate": "Genres=Anime Series<br>Year=%{x}<br>Number of Tv Shows=%{y}<extra></extra>",
         "legendgroup": "Anime Series",
         "line": {
          "color": "#0028ff",
          "dash": "solid"
         },
         "marker": {
          "symbol": "circle"
         },
         "mode": "lines+markers",
         "name": "Anime Series",
         "orientation": "v",
         "showlegend": true,
         "type": "scatter",
         "x": [
          2016,
          2017,
          2018,
          2019,
          2020,
          2021
         ],
         "xaxis": "x",
         "y": [
          14,
          11,
          21,
          41,
          45,
          40
         ],
         "yaxis": "y"
        },
        {
         "hovertemplate": "Genres=Classic & Cult TV<br>Year=%{x}<br>Number of Tv Shows=%{y}<extra></extra>",
         "legendgroup": "Classic & Cult TV",
         "line": {
          "color": "#1f00ff",
          "dash": "solid"
         },
         "marker": {
          "symbol": "circle"
         },
         "mode": "lines+markers",
         "name": "Classic & Cult TV",
         "orientation": "v",
         "showlegend": true,
         "type": "scatter",
         "x": [
          2016,
          2017,
          2018,
          2019,
          2020,
          2021
         ],
         "xaxis": "x",
         "y": [
          1,
          7,
          3,
          1,
          6,
          3
         ],
         "yaxis": "y"
        },
        {
         "hovertemplate": "Genres=Korean TV Shows<br>Year=%{x}<br>Number of Tv Shows=%{y}<extra></extra>",
         "legendgroup": "Korean TV Shows",
         "line": {
          "color": "#6000ff",
          "dash": "solid"
         },
         "marker": {
          "symbol": "circle"
         },
         "mode": "lines+markers",
         "name": "Korean TV Shows",
         "orientation": "v",
         "showlegend": true,
         "type": "scatter",
         "x": [
          2016,
          2017,
          2018,
          2019,
          2020,
          2021
         ],
         "xaxis": "x",
         "y": [
          9,
          31,
          14,
          52,
          30,
          11
         ],
         "yaxis": "y"
        },
        {
         "hovertemplate": "Genres=Reality TV<br>Year=%{x}<br>Number of Tv Shows=%{y}<extra></extra>",
         "legendgroup": "Reality TV",
         "line": {
          "color": "#a100ff",
          "dash": "solid"
         },
         "marker": {
          "symbol": "circle"
         },
         "mode": "lines+markers",
         "name": "Reality TV",
         "orientation": "v",
         "showlegend": true,
         "type": "scatter",
         "x": [
          2016,
          2017,
          2018,
          2019,
          2020,
          2021
         ],
         "xaxis": "x",
         "y": [
          5,
          13,
          36,
          56,
          80,
          54
         ],
         "yaxis": "y"
        },
        {
         "hovertemplate": "Genres=Spanish-Language TV Shows<br>Year=%{x}<br>Number of Tv Shows=%{y}<extra></extra>",
         "legendgroup": "Spanish-Language TV Shows",
         "line": {
          "color": "#e200ff",
          "dash": "solid"
         },
         "marker": {
          "symbol": "circle"
         },
         "mode": "lines+markers",
         "name": "Spanish-Language TV Shows",
         "orientation": "v",
         "showlegend": true,
         "type": "scatter",
         "x": [
          2016,
          2017,
          2018,
          2019,
          2020,
          2021
         ],
         "xaxis": "x",
         "y": [
          5,
          19,
          28,
          36,
          34,
          46
         ],
         "yaxis": "y"
        },
        {
         "hovertemplate": "Genres=TV Action & Adventure<br>Year=%{x}<br>Number of Tv Shows=%{y}<extra></extra>",
         "legendgroup": "TV Action & Adventure",
         "line": {
          "color": "#ff00db",
          "dash": "solid"
         },
         "marker": {
          "symbol": "circle"
         },
         "mode": "lines+markers",
         "name": "TV Action & Adventure",
         "orientation": "v",
         "showlegend": true,
         "type": "scatter",
         "x": [
          2016,
          2017,
          2018,
          2019,
          2020,
          2021
         ],
         "xaxis": "x",
         "y": [
          5,
          16,
          20,
          39,
          43,
          37
         ],
         "yaxis": "y"
        },
        {
         "hovertemplate": "Genres=TV Shows<br>Year=%{x}<br>Number of Tv Shows=%{y}<extra></extra>",
         "legendgroup": "TV Shows",
         "line": {
          "color": "#ff009a",
          "dash": "solid"
         },
         "marker": {
          "symbol": "circle"
         },
         "mode": "lines+markers",
         "name": "TV Shows",
         "orientation": "v",
         "showlegend": true,
         "type": "scatter",
         "x": [
          2016,
          2017,
          2018,
          2019,
          2020,
          2021
         ],
         "xaxis": "x",
         "y": [
          2,
          2,
          2,
          3,
          2,
          5
         ],
         "yaxis": "y"
        },
        {
         "hovertemplate": "Genres=Teen TV Shows<br>Year=%{x}<br>Number of Tv Shows=%{y}<extra></extra>",
         "legendgroup": "Teen TV Shows",
         "line": {
          "color": "#ff0059",
          "dash": "solid"
         },
         "marker": {
          "symbol": "circle"
         },
         "mode": "lines+markers",
         "name": "Teen TV Shows",
         "orientation": "v",
         "showlegend": true,
         "type": "scatter",
         "x": [
          2016,
          2017,
          2018,
          2019,
          2020,
          2021
         ],
         "xaxis": "x",
         "y": [
          3,
          4,
          6,
          18,
          19,
          18
         ],
         "yaxis": "y"
        }
       ],
       "layout": {
        "legend": {
         "title": {
          "text": "Genres"
         },
         "tracegroupgap": 0
        },
        "template": {
         "data": {
          "candlestick": [
           {
            "decreasing": {
             "line": {
              "color": "#000033"
             }
            },
            "increasing": {
             "line": {
              "color": "#000032"
             }
            },
            "type": "candlestick"
           }
          ],
          "contour": [
           {
            "colorscale": [
             [
              0,
              "#000011"
             ],
             [
              0.1111111111111111,
              "#000012"
             ],
             [
              0.2222222222222222,
              "#000013"
             ],
             [
              0.3333333333333333,
              "#000014"
             ],
             [
              0.4444444444444444,
              "#000015"
             ],
             [
              0.5555555555555556,
              "#000016"
             ],
             [
              0.6666666666666666,
              "#000017"
             ],
             [
              0.7777777777777778,
              "#000018"
             ],
             [
              0.8888888888888888,
              "#000019"
             ],
             [
              1,
              "#000020"
             ]
            ],
            "type": "contour"
           }
          ],
          "contourcarpet": [
           {
            "colorscale": [
             [
              0,
              "#000011"
             ],
             [
              0.1111111111111111,
              "#000012"
             ],
             [
              0.2222222222222222,
              "#000013"
             ],
             [
              0.3333333333333333,
              "#000014"
             ],
             [
              0.4444444444444444,
              "#000015"
             ],
             [
              0.5555555555555556,
              "#000016"
             ],
             [
              0.6666666666666666,
              "#000017"
             ],
             [
              0.7777777777777778,
              "#000018"
             ],
             [
              0.8888888888888888,
              "#000019"
             ],
             [
              1,
              "#000020"
             ]
            ],
            "type": "contourcarpet"
           }
          ],
          "heatmap": [
           {
            "colorscale": [
             [
              0,
              "#000011"
             ],
             [
              0.1111111111111111,
              "#000012"
             ],
             [
              0.2222222222222222,
              "#000013"
             ],
             [
              0.3333333333333333,
              "#000014"
             ],
             [
              0.4444444444444444,
              "#000015"
             ],
             [
              0.5555555555555556,
              "#000016"
             ],
             [
              0.6666666666666666,
              "#000017"
             ],
             [
              0.7777777777777778,
              "#000018"
             ],
             [
              0.8888888888888888,
              "#000019"
             ],
             [
              1,
              "#000020"
             ]
            ],
            "type": "heatmap"
           }
          ],
          "histogram2d": [
           {
            "colorscale": [
             [
              0,
              "#000011"
             ],
             [
              0.1111111111111111,
              "#000012"
             ],
             [
              0.2222222222222222,
              "#000013"
             ],
             [
              0.3333333333333333,
              "#000014"
             ],
             [
              0.4444444444444444,
              "#000015"
             ],
             [
              0.5555555555555556,
              "#000016"
             ],
             [
              0.6666666666666666,
              "#000017"
             ],
             [
              0.7777777777777778,
              "#000018"
             ],
             [
              0.8888888888888888,
              "#000019"
             ],
             [
              1,
              "#000020"
             ]
            ],
            "type": "histogram2d"
           }
          ],
          "icicle": [
           {
            "textfont": {
             "color": "white"
            },
            "type": "icicle"
           }
          ],
          "sankey": [
           {
            "textfont": {
             "color": "#000036"
            },
            "type": "sankey"
           }
          ],
          "scatter": [
           {
            "marker": {
             "line": {
              "width": 0
             }
            },
            "type": "scatter"
           }
          ],
          "table": [
           {
            "cells": {
             "fill": {
              "color": "#000038"
             },
             "font": {
              "color": "#000037"
             },
             "line": {
              "color": "#000039"
             }
            },
            "header": {
             "fill": {
              "color": "#000040"
             },
             "font": {
              "color": "#000036"
             },
             "line": {
              "color": "#000039"
             }
            },
            "type": "table"
           }
          ],
          "waterfall": [
           {
            "connector": {
             "line": {
              "color": "#000036",
              "width": 2
             }
            },
            "decreasing": {
             "marker": {
              "color": "#000033"
             }
            },
            "increasing": {
             "marker": {
              "color": "#000032"
             }
            },
            "totals": {
             "marker": {
              "color": "#000034"
             }
            },
            "type": "waterfall"
           }
          ]
         },
         "layout": {
          "coloraxis": {
           "colorscale": [
            [
             0,
             "#000011"
            ],
            [
             0.1111111111111111,
             "#000012"
            ],
            [
             0.2222222222222222,
             "#000013"
            ],
            [
             0.3333333333333333,
             "#000014"
            ],
            [
             0.4444444444444444,
             "#000015"
            ],
            [
             0.5555555555555556,
             "#000016"
            ],
            [
             0.6666666666666666,
             "#000017"
            ],
            [
             0.7777777777777778,
             "#000018"
            ],
            [
             0.8888888888888888,
             "#000019"
            ],
            [
             1,
             "#000020"
            ]
           ]
          },
          "colorscale": {
           "diverging": [
            [
             0,
             "#000021"
            ],
            [
             0.1,
             "#000022"
            ],
            [
             0.2,
             "#000023"
            ],
            [
             0.3,
             "#000024"
            ],
            [
             0.4,
             "#000025"
            ],
            [
             0.5,
             "#000026"
            ],
            [
             0.6,
             "#000027"
            ],
            [
             0.7,
             "#000028"
            ],
            [
             0.8,
             "#000029"
            ],
            [
             0.9,
             "#000030"
            ],
            [
             1,
             "#000031"
            ]
           ],
           "sequential": [
            [
             0,
             "#000011"
            ],
            [
             0.1111111111111111,
             "#000012"
            ],
            [
             0.2222222222222222,
             "#000013"
            ],
            [
             0.3333333333333333,
             "#000014"
            ],
            [
             0.4444444444444444,
             "#000015"
            ],
            [
             0.5555555555555556,
             "#000016"
            ],
            [
             0.6666666666666666,
             "#000017"
            ],
            [
             0.7777777777777778,
             "#000018"
            ],
            [
             0.8888888888888888,
             "#000019"
            ],
            [
             1,
             "#000020"
            ]
           ],
           "sequentialminus": [
            [
             0,
             "#000011"
            ],
            [
             0.1111111111111111,
             "#000012"
            ],
            [
             0.2222222222222222,
             "#000013"
            ],
            [
             0.3333333333333333,
             "#000014"
            ],
            [
             0.4444444444444444,
             "#000015"
            ],
            [
             0.5555555555555556,
             "#000016"
            ],
            [
             0.6666666666666666,
             "#000017"
            ],
            [
             0.7777777777777778,
             "#000018"
            ],
            [
             0.8888888888888888,
             "#000019"
            ],
            [
             1,
             "#000020"
            ]
           ]
          },
          "colorway": [
           "#000001",
           "#000002",
           "#000003",
           "#000004",
           "#000005",
           "#000006",
           "#000007",
           "#000008",
           "#000009",
           "#000010"
          ]
         }
        },
        "title": {
         "text": "Series Added to Netflix by Genre (Year on Year)"
        },
        "xaxis": {
         "anchor": "y",
         "domain": [
          0,
          1
         ],
         "title": {
          "text": "Year"
         }
        },
        "yaxis": {
         "anchor": "x",
         "domain": [
          0,
          1
         ],
         "title": {
          "text": "Number of Tv Shows"
         }
        }
       }
      }
     },
     "metadata": {},
     "output_type": "display_data"
    }
   ],
   "source": [
    "# DataFrame filtered for series only (TV Shows)\n",
    "tv_show = df[df['type'] == 'TV Show']\n",
    "\n",
    "# Extract the year from the addition date\n",
    "tv_show['year_added'] = tv_show['date_added'].dt.year\n",
    "\n",
    "# Separate the genders (listed_in can have multiple values, so we separate them with a comma)\n",
    "tv_show['genres'] = tv_show['listed_in'].str.split(', ')\n",
    "\n",
    "# Explode the genres column to have a row for each genre per series\n",
    "tv_show_exploded = tv_show.explode('genres')\n",
    "\n",
    "# Count the number of series by gender and by year\n",
    "tv_show_grouped = tv_show_exploded.groupby(['year_added', 'genres']).size().reset_index(name='count')\n",
    "\n",
    "# Remove years with NaN values (if any)\n",
    "tv_show_grouped = tv_show_grouped.dropna(subset=['year_added'])\n",
    "\n",
    "# Generate a color palette with the number of unique genres\n",
    "num_genres = tv_show_grouped['genres'].nunique()\n",
    "palette = sns.color_palette(\"hsv\", num_genres).as_hex()\n",
    "\n",
    "# Create a dictionary to map the genres to colors\n",
    "unique_genres = tv_show_grouped['genres'].unique()\n",
    "color_map = {genre: color for genre, color in zip(unique_genres, palette)}\n",
    "\n",
    "# Create the interactive chart using Plotly Express\n",
    "fig = px.line(tv_show_grouped, \n",
    "                x='year_added', \n",
    "                y='count', \n",
    "                color='genres', \n",
    "                title='Series Added to Netflix by Genre (Year on Year)', \n",
    "                labels={'year_added': 'Year', 'count': 'Number of Tv Shows', 'genres': 'Genres'},\n",
    "                color_discrete_map=color_map,\n",
    "                markers=True)\n",
    "\n",
    "# Exibir o gráfico\n",
    "fig.show()"
   ]
  },
  {
   "cell_type": "markdown",
   "metadata": {},
   "source": [
    "Who director has made the most TV Shows"
   ]
  },
  {
   "cell_type": "code",
   "execution_count": 109,
   "metadata": {},
   "outputs": [
    {
     "data": {
      "application/vnd.plotly.v1+json": {
       "config": {
        "plotlyServerURL": "https://plot.ly"
       },
       "data": [
        {
         "alignmentgroup": "True",
         "hovertemplate": "Directors=%{x}<br>Number of Tv Shows=%{text}<extra></extra>",
         "legendgroup": "Alastair Fothergill",
         "marker": {
          "color": "#ff8800",
          "pattern": {
           "shape": ""
          }
         },
         "name": "Alastair Fothergill",
         "offsetgroup": "Alastair Fothergill",
         "orientation": "v",
         "showlegend": true,
         "text": [
          3
         ],
         "textposition": "auto",
         "type": "bar",
         "x": [
          "Alastair Fothergill"
         ],
         "xaxis": "x",
         "y": [
          3
         ],
         "yaxis": "y"
        },
        {
         "alignmentgroup": "True",
         "hovertemplate": "Directors=%{x}<br>Number of Tv Shows=%{text}<extra></extra>",
         "legendgroup": "Hsu Fu-chun",
         "marker": {
          "color": "#eeff00",
          "pattern": {
           "shape": ""
          }
         },
         "name": "Hsu Fu-chun",
         "offsetgroup": "Hsu Fu-chun",
         "orientation": "v",
         "showlegend": true,
         "text": [
          2
         ],
         "textposition": "auto",
         "type": "bar",
         "x": [
          "Hsu Fu-chun"
         ],
         "xaxis": "x",
         "y": [
          2
         ],
         "yaxis": "y"
        },
        {
         "alignmentgroup": "True",
         "hovertemplate": "Directors=%{x}<br>Number of Tv Shows=%{text}<extra></extra>",
         "legendgroup": "Iginio Straffi",
         "marker": {
          "color": "#66ff00",
          "pattern": {
           "shape": ""
          }
         },
         "name": "Iginio Straffi",
         "offsetgroup": "Iginio Straffi",
         "orientation": "v",
         "showlegend": true,
         "text": [
          2
         ],
         "textposition": "auto",
         "type": "bar",
         "x": [
          "Iginio Straffi"
         ],
         "xaxis": "x",
         "y": [
          2
         ],
         "yaxis": "y"
        },
        {
         "alignmentgroup": "True",
         "hovertemplate": "Directors=%{x}<br>Number of Tv Shows=%{text}<extra></extra>",
         "legendgroup": "Shin Won-ho",
         "marker": {
          "color": "#00ff27",
          "pattern": {
           "shape": ""
          }
         },
         "name": "Shin Won-ho",
         "offsetgroup": "Shin Won-ho",
         "orientation": "v",
         "showlegend": true,
         "text": [
          2
         ],
         "textposition": "auto",
         "type": "bar",
         "x": [
          "Shin Won-ho"
         ],
         "xaxis": "x",
         "y": [
          2
         ],
         "yaxis": "y"
        },
        {
         "alignmentgroup": "True",
         "hovertemplate": "Directors=%{x}<br>Number of Tv Shows=%{text}<extra></extra>",
         "legendgroup": "Ken Burns",
         "marker": {
          "color": "#00ffaf",
          "pattern": {
           "shape": ""
          }
         },
         "name": "Ken Burns",
         "offsetgroup": "Ken Burns",
         "orientation": "v",
         "showlegend": true,
         "text": [
          2
         ],
         "textposition": "auto",
         "type": "bar",
         "x": [
          "Ken Burns"
         ],
         "xaxis": "x",
         "y": [
          2
         ],
         "yaxis": "y"
        },
        {
         "alignmentgroup": "True",
         "hovertemplate": "Directors=%{x}<br>Number of Tv Shows=%{text}<extra></extra>",
         "legendgroup": "Stan Lathan",
         "marker": {
          "color": "#00c7ff",
          "pattern": {
           "shape": ""
          }
         },
         "name": "Stan Lathan",
         "offsetgroup": "Stan Lathan",
         "orientation": "v",
         "showlegend": true,
         "text": [
          2
         ],
         "textposition": "auto",
         "type": "bar",
         "x": [
          "Stan Lathan"
         ],
         "xaxis": "x",
         "y": [
          2
         ],
         "yaxis": "y"
        },
        {
         "alignmentgroup": "True",
         "hovertemplate": "Directors=%{x}<br>Number of Tv Shows=%{text}<extra></extra>",
         "legendgroup": "Rob Seidenglanz",
         "marker": {
          "color": "#003fff",
          "pattern": {
           "shape": ""
          }
         },
         "name": "Rob Seidenglanz",
         "offsetgroup": "Rob Seidenglanz",
         "orientation": "v",
         "showlegend": true,
         "text": [
          2
         ],
         "textposition": "auto",
         "type": "bar",
         "x": [
          "Rob Seidenglanz"
         ],
         "xaxis": "x",
         "y": [
          2
         ],
         "yaxis": "y"
        },
        {
         "alignmentgroup": "True",
         "hovertemplate": "Directors=%{x}<br>Number of Tv Shows=%{text}<extra></extra>",
         "legendgroup": "Luis Alfaro, Javier Gómez Santander",
         "marker": {
          "color": "#4f00ff",
          "pattern": {
           "shape": ""
          }
         },
         "name": "Luis Alfaro, Javier Gómez Santander",
         "offsetgroup": "Luis Alfaro, Javier Gómez Santander",
         "orientation": "v",
         "showlegend": true,
         "text": [
          1
         ],
         "textposition": "auto",
         "type": "bar",
         "x": [
          "Luis Alfaro, Javier Gómez Santander"
         ],
         "xaxis": "x",
         "y": [
          1
         ],
         "yaxis": "y"
        },
        {
         "alignmentgroup": "True",
         "hovertemplate": "Directors=%{x}<br>Number of Tv Shows=%{text}<extra></extra>",
         "legendgroup": "Mauricio Dias, Tatiana Villela",
         "marker": {
          "color": "#d600ff",
          "pattern": {
           "shape": ""
          }
         },
         "name": "Mauricio Dias, Tatiana Villela",
         "offsetgroup": "Mauricio Dias, Tatiana Villela",
         "orientation": "v",
         "showlegend": true,
         "text": [
          1
         ],
         "textposition": "auto",
         "type": "bar",
         "x": [
          "Mauricio Dias, Tatiana Villela"
         ],
         "xaxis": "x",
         "y": [
          1
         ],
         "yaxis": "y"
        },
        {
         "alignmentgroup": "True",
         "hovertemplate": "Directors=%{x}<br>Number of Tv Shows=%{text}<extra></extra>",
         "legendgroup": "Brad Anderson",
         "marker": {
          "color": "#ff00a0",
          "pattern": {
           "shape": ""
          }
         },
         "name": "Brad Anderson",
         "offsetgroup": "Brad Anderson",
         "orientation": "v",
         "showlegend": true,
         "text": [
          1
         ],
         "textposition": "auto",
         "type": "bar",
         "x": [
          "Brad Anderson"
         ],
         "xaxis": "x",
         "y": [
          1
         ],
         "yaxis": "y"
        }
       ],
       "layout": {
        "barmode": "relative",
        "legend": {
         "title": {
          "text": "Directors"
         },
         "tracegroupgap": 0
        },
        "template": {
         "data": {
          "candlestick": [
           {
            "decreasing": {
             "line": {
              "color": "#000033"
             }
            },
            "increasing": {
             "line": {
              "color": "#000032"
             }
            },
            "type": "candlestick"
           }
          ],
          "contour": [
           {
            "colorscale": [
             [
              0,
              "#000011"
             ],
             [
              0.1111111111111111,
              "#000012"
             ],
             [
              0.2222222222222222,
              "#000013"
             ],
             [
              0.3333333333333333,
              "#000014"
             ],
             [
              0.4444444444444444,
              "#000015"
             ],
             [
              0.5555555555555556,
              "#000016"
             ],
             [
              0.6666666666666666,
              "#000017"
             ],
             [
              0.7777777777777778,
              "#000018"
             ],
             [
              0.8888888888888888,
              "#000019"
             ],
             [
              1,
              "#000020"
             ]
            ],
            "type": "contour"
           }
          ],
          "contourcarpet": [
           {
            "colorscale": [
             [
              0,
              "#000011"
             ],
             [
              0.1111111111111111,
              "#000012"
             ],
             [
              0.2222222222222222,
              "#000013"
             ],
             [
              0.3333333333333333,
              "#000014"
             ],
             [
              0.4444444444444444,
              "#000015"
             ],
             [
              0.5555555555555556,
              "#000016"
             ],
             [
              0.6666666666666666,
              "#000017"
             ],
             [
              0.7777777777777778,
              "#000018"
             ],
             [
              0.8888888888888888,
              "#000019"
             ],
             [
              1,
              "#000020"
             ]
            ],
            "type": "contourcarpet"
           }
          ],
          "heatmap": [
           {
            "colorscale": [
             [
              0,
              "#000011"
             ],
             [
              0.1111111111111111,
              "#000012"
             ],
             [
              0.2222222222222222,
              "#000013"
             ],
             [
              0.3333333333333333,
              "#000014"
             ],
             [
              0.4444444444444444,
              "#000015"
             ],
             [
              0.5555555555555556,
              "#000016"
             ],
             [
              0.6666666666666666,
              "#000017"
             ],
             [
              0.7777777777777778,
              "#000018"
             ],
             [
              0.8888888888888888,
              "#000019"
             ],
             [
              1,
              "#000020"
             ]
            ],
            "type": "heatmap"
           }
          ],
          "histogram2d": [
           {
            "colorscale": [
             [
              0,
              "#000011"
             ],
             [
              0.1111111111111111,
              "#000012"
             ],
             [
              0.2222222222222222,
              "#000013"
             ],
             [
              0.3333333333333333,
              "#000014"
             ],
             [
              0.4444444444444444,
              "#000015"
             ],
             [
              0.5555555555555556,
              "#000016"
             ],
             [
              0.6666666666666666,
              "#000017"
             ],
             [
              0.7777777777777778,
              "#000018"
             ],
             [
              0.8888888888888888,
              "#000019"
             ],
             [
              1,
              "#000020"
             ]
            ],
            "type": "histogram2d"
           }
          ],
          "icicle": [
           {
            "textfont": {
             "color": "white"
            },
            "type": "icicle"
           }
          ],
          "sankey": [
           {
            "textfont": {
             "color": "#000036"
            },
            "type": "sankey"
           }
          ],
          "scatter": [
           {
            "marker": {
             "line": {
              "width": 0
             }
            },
            "type": "scatter"
           }
          ],
          "table": [
           {
            "cells": {
             "fill": {
              "color": "#000038"
             },
             "font": {
              "color": "#000037"
             },
             "line": {
              "color": "#000039"
             }
            },
            "header": {
             "fill": {
              "color": "#000040"
             },
             "font": {
              "color": "#000036"
             },
             "line": {
              "color": "#000039"
             }
            },
            "type": "table"
           }
          ],
          "waterfall": [
           {
            "connector": {
             "line": {
              "color": "#000036",
              "width": 2
             }
            },
            "decreasing": {
             "marker": {
              "color": "#000033"
             }
            },
            "increasing": {
             "marker": {
              "color": "#000032"
             }
            },
            "totals": {
             "marker": {
              "color": "#000034"
             }
            },
            "type": "waterfall"
           }
          ]
         },
         "layout": {
          "coloraxis": {
           "colorscale": [
            [
             0,
             "#000011"
            ],
            [
             0.1111111111111111,
             "#000012"
            ],
            [
             0.2222222222222222,
             "#000013"
            ],
            [
             0.3333333333333333,
             "#000014"
            ],
            [
             0.4444444444444444,
             "#000015"
            ],
            [
             0.5555555555555556,
             "#000016"
            ],
            [
             0.6666666666666666,
             "#000017"
            ],
            [
             0.7777777777777778,
             "#000018"
            ],
            [
             0.8888888888888888,
             "#000019"
            ],
            [
             1,
             "#000020"
            ]
           ]
          },
          "colorscale": {
           "diverging": [
            [
             0,
             "#000021"
            ],
            [
             0.1,
             "#000022"
            ],
            [
             0.2,
             "#000023"
            ],
            [
             0.3,
             "#000024"
            ],
            [
             0.4,
             "#000025"
            ],
            [
             0.5,
             "#000026"
            ],
            [
             0.6,
             "#000027"
            ],
            [
             0.7,
             "#000028"
            ],
            [
             0.8,
             "#000029"
            ],
            [
             0.9,
             "#000030"
            ],
            [
             1,
             "#000031"
            ]
           ],
           "sequential": [
            [
             0,
             "#000011"
            ],
            [
             0.1111111111111111,
             "#000012"
            ],
            [
             0.2222222222222222,
             "#000013"
            ],
            [
             0.3333333333333333,
             "#000014"
            ],
            [
             0.4444444444444444,
             "#000015"
            ],
            [
             0.5555555555555556,
             "#000016"
            ],
            [
             0.6666666666666666,
             "#000017"
            ],
            [
             0.7777777777777778,
             "#000018"
            ],
            [
             0.8888888888888888,
             "#000019"
            ],
            [
             1,
             "#000020"
            ]
           ],
           "sequentialminus": [
            [
             0,
             "#000011"
            ],
            [
             0.1111111111111111,
             "#000012"
            ],
            [
             0.2222222222222222,
             "#000013"
            ],
            [
             0.3333333333333333,
             "#000014"
            ],
            [
             0.4444444444444444,
             "#000015"
            ],
            [
             0.5555555555555556,
             "#000016"
            ],
            [
             0.6666666666666666,
             "#000017"
            ],
            [
             0.7777777777777778,
             "#000018"
            ],
            [
             0.8888888888888888,
             "#000019"
            ],
            [
             1,
             "#000020"
            ]
           ]
          },
          "colorway": [
           "#000001",
           "#000002",
           "#000003",
           "#000004",
           "#000005",
           "#000006",
           "#000007",
           "#000008",
           "#000009",
           "#000010"
          ]
         }
        },
        "title": {
         "text": "Directors with the most TV show productions"
        },
        "xaxis": {
         "anchor": "y",
         "categoryarray": [
          "Alastair Fothergill",
          "Hsu Fu-chun",
          "Iginio Straffi",
          "Shin Won-ho",
          "Ken Burns",
          "Stan Lathan",
          "Rob Seidenglanz",
          "Luis Alfaro, Javier Gómez Santander",
          "Mauricio Dias, Tatiana Villela",
          "Brad Anderson"
         ],
         "categoryorder": "array",
         "domain": [
          0,
          1
         ],
         "tickangle": -45,
         "title": {
          "text": "Directors"
         }
        },
        "yaxis": {
         "anchor": "x",
         "domain": [
          0,
          1
         ],
         "title": {
          "text": "Number of Tv Shows"
         }
        }
       }
      }
     },
     "metadata": {},
     "output_type": "display_data"
    }
   ],
   "source": [
    "# Drop null values in column director\n",
    "tv_show = tv_show.dropna(subset=['director'])\n",
    "\n",
    "# Transform column 'director' to string\n",
    "tv_show['director'] = tv_show['director'].astype('string')\n",
    "\n",
    "# Count number of TV Show by director\n",
    "directors_count = tv_show['director'].value_counts().reset_index()\n",
    "directors_count.columns = ['director', 'tv_show_count']\n",
    "\n",
    "# Filter directors\n",
    "top_directors = directors_count.head(10)\n",
    "\n",
    "# Generate a color palette with the number of unique directors\n",
    "num_directors = top_directors['director'].nunique()\n",
    "palette = sns.color_palette(\"hsv\", num_directors).as_hex()\n",
    "\n",
    "# Create a dictionary to map the directors to colors\n",
    "unique_directors = top_directors['director'].unique()\n",
    "color_map = {director: color for director, color in zip(unique_directors, palette)}\n",
    "\n",
    "fig = px.bar(\n",
    "    data_frame=top_directors,\n",
    "    x='director',\n",
    "    y='tv_show_count',\n",
    "    title='Directors with the most TV show productions',\n",
    "    labels={'tv_show_count': 'Number of Tv Shows', 'director': 'Directors'},\n",
    "    text='tv_show_count',\n",
    "    color_discrete_map=color_map,\n",
    "    color='director'\n",
    ")\n",
    "# Update layout to rotate labels on the x-axis\n",
    "fig.update_layout(xaxis_tickangle=-45)\n",
    "fig.show()"
   ]
  }
 ],
 "metadata": {
  "kernelspec": {
   "display_name": "data",
   "language": "python",
   "name": "python3"
  },
  "language_info": {
   "codemirror_mode": {
    "name": "ipython",
    "version": 3
   },
   "file_extension": ".py",
   "mimetype": "text/x-python",
   "name": "python",
   "nbconvert_exporter": "python",
   "pygments_lexer": "ipython3",
   "version": "3.12.5"
  }
 },
 "nbformat": 4,
 "nbformat_minor": 2
}
