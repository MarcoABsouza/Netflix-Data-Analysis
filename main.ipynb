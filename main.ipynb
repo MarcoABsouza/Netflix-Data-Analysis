{
 "cells": [
  {
   "cell_type": "code",
   "execution_count": 3,
   "metadata": {},
   "outputs": [],
   "source": [
    "# Libraries in use\n",
    "import pandas as pd\n",
    "import numpy as np\n",
    "import plotly.graph_objects as go\n",
    "import plotly.express as px\n",
    "import streamlit as st\n",
    "import matplotlib.pyplot as plt\n",
    "import seaborn as sns\n",
    "from datetime import datetime"
   ]
  },
  {
   "cell_type": "code",
   "execution_count": 69,
   "metadata": {},
   "outputs": [],
   "source": [
    "# Dataset used\n",
    "dataset = 'netflix_movies.csv'\n",
    "\n",
    "# Dataframe over dataset\n",
    "df = pd.read_csv(dataset)"
   ]
  },
  {
   "cell_type": "markdown",
   "metadata": {},
   "source": [
    "#### **Data pre-processing**"
   ]
  },
  {
   "cell_type": "code",
   "execution_count": null,
   "metadata": {},
   "outputs": [],
   "source": [
    "# Check the dataframe information\n",
    "df.info()"
   ]
  },
  {
   "cell_type": "code",
   "execution_count": 6,
   "metadata": {},
   "outputs": [],
   "source": [
    "# Selects the columns whose type is object and transforms them into a list\n",
    "object_columns = df.columns[df.dtypes==object].to_list()\n",
    "\n",
    "# Do not use column 'date_added'\n",
    "if 'date_added' in object_columns:\n",
    "    object_columns.remove('date_added')\n",
    "\n",
    "# Transform object columns into categorical columns\n",
    "df[object_columns] = df[object_columns].astype('category')"
   ]
  },
  {
   "cell_type": "code",
   "execution_count": 71,
   "metadata": {},
   "outputs": [],
   "source": [
    "# Transform the column to the datetime type\n",
    "df['date_added'] = pd.to_datetime(df['date_added'], errors='coerce')"
   ]
  },
  {
   "cell_type": "code",
   "execution_count": null,
   "metadata": {},
   "outputs": [],
   "source": [
    "# Identifies duplicate values\n",
    "df.duplicated().sum()"
   ]
  },
  {
   "cell_type": "code",
   "execution_count": null,
   "metadata": {},
   "outputs": [],
   "source": [
    "# Identifying and displaying null values\n",
    "df_missing = (\n",
    "    df.isna().sum() # counts the null values in the dataframe\n",
    "    .to_frame('missing_count') # Take the Series and turn it into a DataFrame\n",
    "    .join( # concat\n",
    "        (\n",
    "            df.isna().sum() # counts the null values in the dataframe\n",
    "            / df.shape[0] # Divide the count of null values by the size of the dataframe\n",
    "        ) \n",
    "        .to_frame('missing_pct') # Transforms the Series into Dataframe of the percentage of each null value in the table\n",
    "    )\n",
    "    .sort_values('missing_count',ascending=False) # Table sorted by missing_count dataframe\n",
    ")\n",
    "\n",
    "df_missing.style.format('{:.2%}',subset=['missing_pct']) # improves the formatting of the percentage in the dataframe"
   ]
  },
  {
   "cell_type": "code",
   "execution_count": 96,
   "metadata": {},
   "outputs": [],
   "source": [
    "# It is not interesting to delete null values, only rows with full null values.\n",
    "# Because, we can miss some values in our analysis.\n",
    "# If you want to drop all rows with null values\n",
    "# df.dropna(inplace=True)"
   ]
  },
  {
   "cell_type": "markdown",
   "metadata": {},
   "source": [
    "Show the all Movies & TV Shows released by month -> Graphs"
   ]
  },
  {
   "cell_type": "code",
   "execution_count": 72,
   "metadata": {},
   "outputs": [],
   "source": [
    "# Selects in the 'date_added' column only the months of the data and counts how many times they appear\n",
    "month = df['date_added'].dt.month.value_counts().sort_index()"
   ]
  },
  {
   "cell_type": "code",
   "execution_count": null,
   "metadata": {},
   "outputs": [],
   "source": [
    "# Plot bar charts\n",
    "\"\"\"\n",
    "    Show the all Movies & TV Shows released by month\n",
    "\"\"\"\n",
    "%matplotlib inline\n",
    "sns.set_theme(style='ticks')\n",
    "plt.figure(figsize=(12, 6))\n",
    "month.plot(kind='bar', color='teal', layout='constrained')\n",
    "plt.title('Movie and Series Releases by Month')\n",
    "plt.xlabel('Month')\n",
    "plt.ylabel('Number of Launches')\n",
    "plt.xticks(ticks=range(12), labels=['Jan', 'Feb', 'Mar', 'Apr', 'May', 'Jun', 'Jul', 'Aug', 'Sep', 'Oct', 'Nov', 'Dec'], rotation=45)\n",
    "plt.tight_layout()\n",
    "plt.show()"
   ]
  },
  {
   "cell_type": "code",
   "execution_count": null,
   "metadata": {},
   "outputs": [],
   "source": [
    "# Plot bar charts\n",
    "\"\"\"\n",
    "    Show the all Movies & TV Shows released by month\n",
    "\"\"\"\n",
    "# Use Seaborn's darkgrid theme for better visuals\n",
    "sns.set_theme(style=\"ticks\")\n",
    "\n",
    "# Figure setup\n",
    "plt.figure(figsize=(12, 6))\n",
    "\n",
    "# Create bar plot\n",
    "ax = month.plot(kind='bar', color='teal')\n",
    "#sns.color_palette('coolwarm', n_colors=12)\n",
    "# Title and labels\n",
    "plt.title('Movie and Series Releases by Month', fontsize=16, fontweight='bold')\n",
    "plt.xlabel('Month', fontsize=12)\n",
    "plt.ylabel('Number of Launches', fontsize=12)\n",
    "\n",
    "# Customizing x-ticks\n",
    "plt.xticks(ticks=range(12), labels=['Jan', 'Feb', 'Mar', 'Apr', 'May', 'Jun', 'Jul', 'Aug', 'Sep', 'Oct', 'Nov', 'Dec'], rotation=45)\n",
    "\n",
    "# Add data labels\n",
    "for p in ax.patches:\n",
    "    ax.annotate(f'{int(p.get_height())}', (p.get_x() * 1.005, p.get_height() * 1.005), fontsize=10, color='black')\n",
    "\n",
    "# Apply tight layout for better spacing\n",
    "plt.tight_layout()\n",
    "\n",
    "# Show the plot\n",
    "plt.show()"
   ]
  },
  {
   "cell_type": "code",
   "execution_count": null,
   "metadata": {},
   "outputs": [],
   "source": [
    "# Plot bar charts\n",
    "\"\"\"\n",
    "    Show the all Movies & TV Shows released by month\n",
    "\"\"\"\n",
    "# Create a figure with a specific background color\n",
    "fig, ax = plt.subplots(figsize=(12, 6))\n",
    "\n",
    "# Set background color of the plot area (axes)\n",
    "ax.set_facecolor('lightgray')  # Light gray background for the plot\n",
    "\n",
    "# Set background color for the figure area\n",
    "fig.patch.set_facecolor('whitesmoke')  # Soft white background for the figure\n",
    "\n",
    "# Plot the bar chart with a custom color palette\n",
    "ax.bar(range(12), month, color='teal')\n",
    "\n",
    "# Set title and labels\n",
    "ax.set_title('Movie and Series Releases by Month', fontsize=16, fontweight='bold')\n",
    "ax.set_xlabel('Month', fontsize=12)\n",
    "ax.set_ylabel('Number of Launches', fontsize=12)\n",
    "\n",
    "# Customizing x-ticks\n",
    "ax.set_xticks(range(12))\n",
    "ax.set_xticklabels(['Jan', 'Feb', 'Mar', 'Apr', 'May', 'Jun', 'Jul', 'Aug', 'Sep', 'Oct', 'Nov', 'Dec'], rotation=45)\n",
    "\n",
    "# Add data labels\n",
    "for i, value in enumerate(month):\n",
    "    ax.text(i, value + 2, f'{value}', ha='center', fontsize=10)\n",
    "\n",
    "# Adjust layout for proper spacing\n",
    "plt.tight_layout()\n",
    "\n",
    "# Show the plot\n",
    "plt.show()"
   ]
  },
  {
   "cell_type": "markdown",
   "metadata": {},
   "source": [
    "Count the all types of unique rating & which rating are with most number -> Graphs"
   ]
  },
  {
   "cell_type": "code",
   "execution_count": 100,
   "metadata": {},
   "outputs": [],
   "source": [
    "# Sample DataFrame\n",
    "values_rating = pd.DataFrame(df['rating'].value_counts()).reset_index()\n",
    "values_rating.columns = ['Rating', 'Count']"
   ]
  },
  {
   "cell_type": "code",
   "execution_count": null,
   "metadata": {},
   "outputs": [],
   "source": [
    "# Plot bar \n",
    "\"\"\" \n",
    "    Count the all types of unique rating & which rating are with most number\n",
    "\"\"\"\n",
    "# Set up the figure and axes\n",
    "plt.figure(figsize=(10, 6))\n",
    "\n",
    "# Use a barplot with Seaborn for better aesthetics\n",
    "ax = sns.barplot(x='Rating', y='Count',hue='Rating', data=values_rating, palette='deep',legend=False, order=values_rating['Rating'])\n",
    "\n",
    "# Set titles and labels\n",
    "ax.set_title('Unique Rating Values and Their Frequency', fontsize=16, fontweight='bold')\n",
    "ax.set_xlabel('Rating', fontsize=12)\n",
    "ax.set_ylabel('Number of Ratings', fontsize=12)\n",
    "\n",
    "# Annotate bars with the counts\n",
    "for p in ax.patches:\n",
    "    ax.annotate(f'{int(p.get_height())}', (p.get_x() + p.get_width() / 2., p.get_height()),\n",
    "                ha='center', va='baseline', fontsize=11, color='black', xytext=(0, 5), textcoords='offset points')\n",
    "\n",
    "# Display the plot\n",
    "plt.tight_layout()\n",
    "plt.show()"
   ]
  },
  {
   "cell_type": "code",
   "execution_count": null,
   "metadata": {},
   "outputs": [],
   "source": [
    "# Plot horizontal bar \n",
    "\"\"\" \n",
    "    Count the all types of unique rating & which rating are with most number\n",
    "\"\"\"\n",
    "# Set up the figure and axes for a horizontal bar chart\n",
    "plt.figure(figsize=(10, 6))\n",
    "\n",
    "# Horizontal barplot\n",
    "ax = sns.barplot(x='Count', y='Rating', hue=values_rating['Rating'], data=values_rating, palette='deep', order=values_rating['Rating'], legend=False)\n",
    "\n",
    "# Set titles and labels\n",
    "ax.set_title('Unique Rating Values and Their Frequency (Horizontal)', fontsize=16, fontweight='bold')\n",
    "ax.set_xlabel('Number of Ratings', fontsize=12)\n",
    "ax.set_ylabel('Rating', fontsize=12)\n",
    "\n",
    "# Annotate bars with the counts\n",
    "for p in ax.patches:\n",
    "    ax.annotate(f'{int(p.get_width())}', (p.get_width() + 1, p.get_y() + p.get_height() / 2),\n",
    "                va='center', fontsize=11, color='black')\n",
    "\n",
    "# Display the plot\n",
    "plt.tight_layout()\n",
    "plt.show()\n"
   ]
  },
  {
   "cell_type": "markdown",
   "metadata": {},
   "source": [
    "Salman Khan, Shah Rukh Khan, Akshay Kumar quantity movies - Graph"
   ]
  },
  {
   "cell_type": "code",
   "execution_count": null,
   "metadata": {},
   "outputs": [],
   "source": [
    "# Plot barplot\n",
    "\"\"\" \n",
    "    Salman Khan, Shah Rukh Khan, Akshay Kumar all movies\n",
    "\"\"\"\n",
    "\n",
    "# Create a mask to identify the actors in the cast\n",
    "mask = df['cast'].str.contains('Salman Khan|Shah Rukh Khan|Akshay Kumar', na=False)\n",
    "\n",
    "# Filter the DataFrame\n",
    "filtered_df = df[mask]\n",
    "\n",
    "# Separate the actors into a new column\n",
    "filtered_df['actor'] = filtered_df['cast'].str.extract('(Salman Khan|Shah Rukh Khan|Akshay Kumar)')\n",
    "\n",
    "# Count films by actor\n",
    "movies_count = filtered_df.groupby('actor').size().reset_index(name='Count')\n",
    "\n",
    "# Plot the data on a bar chart\n",
    "plt.figure(figsize=(8, 5))\n",
    "ax = sns.barplot(x=movies_count['actor'], y=movies_count['Count'], hue=movies_count['actor'], palette='deep', legend=False)\n",
    "\n",
    "# Add title and labels\n",
    "ax.set_title('Number of Films by Actors', fontsize=16, fontweight='bold')\n",
    "ax.set_xlabel('Actors', fontsize=12)\n",
    "ax.set_ylabel('Number of films', fontsize=12)\n",
    "\n",
    "# Add the values to the tops of the bars\n",
    "for p in ax.patches:\n",
    "    ax.annotate(f'{int(p.get_height())}', (p.get_x() + p.get_width() / 2., p.get_height()),\n",
    "                ha='center', va='baseline', fontsize=11, color='black', xytext=(0, 5), textcoords='offset points')\n",
    "\n",
    "plt.tight_layout()\n",
    "plt.show()"
   ]
  },
  {
   "cell_type": "markdown",
   "metadata": {},
   "source": [
    "Year on Year show added on Netflix by its type -> Graph"
   ]
  },
  {
   "cell_type": "code",
   "execution_count": null,
   "metadata": {},
   "outputs": [],
   "source": [
    "# DataFrame filtered for series only (TV Shows)\n",
    "tv_show = df[df['type'] == 'TV Show']\n",
    "\n",
    "# Extract the year from the addition date\n",
    "tv_show['year_added'] = tv_show['date_added'].dt.year\n",
    "\n",
    "# Separate the genders (listed_in can have multiple values, so we separate them with a comma)\n",
    "tv_show['genres'] = tv_show['listed_in'].str.split(', ')\n",
    "\n",
    "# Explode the genres column to have a row for each genre per series\n",
    "tv_show_exploded = tv_show.explode('genres')\n",
    "\n",
    "# Count the number of series by gender and by year\n",
    "tv_show_grouped = tv_show_exploded.groupby(['year_added', 'genres']).size().reset_index(name='count')\n",
    "\n",
    "# Remove years with NaN values (if any)\n",
    "tv_show_grouped = tv_show_grouped.dropna(subset=['year_added'])\n",
    "\n",
    "# Generate a color palette with the number of unique genres\n",
    "num_genres = tv_show_grouped['genres'].nunique()\n",
    "palette = sns.color_palette(\"hsv\", num_genres).as_hex()\n",
    "\n",
    "# Create a dictionary to map the genres to colors\n",
    "unique_genres = tv_show_grouped['genres'].unique()\n",
    "color_map = {genre: color for genre, color in zip(unique_genres, palette)}\n",
    "\n",
    "# Create the interactive chart using Plotly Express\n",
    "fig = px.line(tv_show_grouped, \n",
    "                x='year_added', \n",
    "                y='count', \n",
    "                color='genres', \n",
    "                title='Series Added to Netflix by Genre (Year on Year)', \n",
    "                labels={'year_added': 'Year', 'count': 'Number of Tv Shows', 'genres': 'Genres'},\n",
    "                color_discrete_map=color_map,\n",
    "                markers=True)\n",
    "\n",
    "# Exibir o gráfico\n",
    "fig.show()"
   ]
  },
  {
   "cell_type": "markdown",
   "metadata": {},
   "source": [
    "Who director has made the most TV Shows"
   ]
  },
  {
   "cell_type": "code",
   "execution_count": null,
   "metadata": {},
   "outputs": [],
   "source": [
    "# Drop null values in column director\n",
    "tv_show = tv_show.dropna(subset=['director'])\n",
    "\n",
    "# Transform column 'director' to string\n",
    "tv_show['director'] = tv_show['director'].astype('string')\n",
    "\n",
    "# Count number of TV Show by director\n",
    "directors_count = tv_show['director'].value_counts().reset_index()\n",
    "directors_count.columns = ['director', 'tv_show_count']\n",
    "\n",
    "# Filter directors\n",
    "top_directors = directors_count.head(10)\n",
    "\n",
    "# Generate a color palette with the number of unique directors\n",
    "num_directors = top_directors['director'].nunique()\n",
    "palette = sns.color_palette(\"hsv\", num_directors).as_hex()\n",
    "\n",
    "# Create a dictionary to map the directors to colors\n",
    "unique_directors = top_directors['director'].unique()\n",
    "color_map = {director: color for director, color in zip(unique_directors, palette)}\n",
    "\n",
    "fig = px.bar(\n",
    "    data_frame=top_directors,\n",
    "    x='director',\n",
    "    y='tv_show_count',\n",
    "    title='Directors with the most TV show productions',\n",
    "    labels={'tv_show_count': 'Number of Tv Shows', 'director': 'Directors'},\n",
    "    text='tv_show_count',\n",
    "    color_discrete_map=color_map,\n",
    "    color='director'\n",
    ")\n",
    "# Update layout to rotate labels on the x-axis\n",
    "fig.update_layout(xaxis_tickangle=-45)\n",
    "fig.show()"
   ]
  }
 ],
 "metadata": {
  "kernelspec": {
   "display_name": "data",
   "language": "python",
   "name": "python3"
  },
  "language_info": {
   "codemirror_mode": {
    "name": "ipython",
    "version": 3
   },
   "file_extension": ".py",
   "mimetype": "text/x-python",
   "name": "python",
   "nbconvert_exporter": "python",
   "pygments_lexer": "ipython3",
   "version": "3.12.5"
  }
 },
 "nbformat": 4,
 "nbformat_minor": 2
}
